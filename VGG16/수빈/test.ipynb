{
 "cells": [
  {
   "cell_type": "code",
   "execution_count": 1,
   "metadata": {},
   "outputs": [
    {
     "name": "stdout",
     "output_type": "stream",
     "text": [
      "cpu\n",
      "Files already downloaded and verified\n"
     ]
    },
    {
     "ename": "NameError",
     "evalue": "name 'VGG16' is not defined",
     "output_type": "error",
     "traceback": [
      "\u001b[1;31m---------------------------------------------------------------------------\u001b[0m",
      "\u001b[1;31mNameError\u001b[0m                                 Traceback (most recent call last)",
      "Cell \u001b[1;32mIn[1], line 30\u001b[0m\n\u001b[0;32m     25\u001b[0m test_loader \u001b[38;5;241m=\u001b[39m DataLoader(cifar10_test, batch_size \u001b[38;5;241m=\u001b[39m batch_size)\n\u001b[0;32m     28\u001b[0m \u001b[38;5;66;03m# Train\u001b[39;00m\n\u001b[0;32m     29\u001b[0m \u001b[38;5;66;03m# 모델 로드\u001b[39;00m\n\u001b[1;32m---> 30\u001b[0m model \u001b[38;5;241m=\u001b[39m \u001b[43mVGG16\u001b[49m(base_dim \u001b[38;5;241m=\u001b[39m \u001b[38;5;241m64\u001b[39m)\u001b[38;5;241m.\u001b[39mto(device)\n\u001b[0;32m     31\u001b[0m \u001b[38;5;66;03m# VGG16 모델을 학습에 사용\u001b[39;00m\n\u001b[0;32m     32\u001b[0m \u001b[38;5;66;03m# base dim = 64: 첫 번째 합성곱 블록의 출력 채널 수\u001b[39;00m\n\u001b[0;32m     33\u001b[0m \n\u001b[0;32m     34\u001b[0m \u001b[38;5;66;03m# 저장된 가중치 불러오기\u001b[39;00m\n\u001b[0;32m     35\u001b[0m model\u001b[38;5;241m.\u001b[39mload_state_dict(torch\u001b[38;5;241m.\u001b[39mload(\u001b[38;5;124m'\u001b[39m\u001b[38;5;124m./VGG16_100.pth\u001b[39m\u001b[38;5;124m'\u001b[39m))\n",
      "\u001b[1;31mNameError\u001b[0m: name 'VGG16' is not defined"
     ]
    }
   ],
   "source": [
    "import torchvision.datasets as datasets\n",
    "import torchvision.transforms as transforms\n",
    "from torch.utils.data import DataLoader\n",
    "import torch\n",
    "import torch.nn as nn\n",
    "\n",
    "# 장치 설정- CPU 또는 GPU 사용\n",
    "device = torch.device(\"cuda:0\" if torch.cuda.is_available() else 'cpu') # GPU 사용 가능: cuda 사용\n",
    "                                                                        # GPU 사용 불가능: CPU 사용\n",
    "print(device)\n",
    "\n",
    "# 배치 사이즈 설정\n",
    "batch_size = 100 # 1회에 100개의 이미지 처리\n",
    "\n",
    "# 이미지 데이터 전처리\n",
    "transform = transforms.Compose(\n",
    "    [transforms.ToTensor(), # 이미지를 PyTorch 텐서로 변환하여, 이미지 픽셀 값을 0~1 범위로 정규화\n",
    "     transforms.Normalize((0.5,0.5,0.5),(0.5,0.5,0.5))] # 각 R, G, B 채널에 대해 \n",
    "                                                        # 평균(0.5, 0.5, 0.5), 표준편차(0.5, 0.5, 0.5) 기준으로 정규화 수행\n",
    ")\n",
    "\n",
    "# 데이터셋 로드\n",
    "cifar10_test = datasets.CIFAR10(root = \"./Data/\", train = False, transform = transforms, target_transform = None, download = True)\n",
    "\n",
    "test_loader = DataLoader(cifar10_test, batch_size = batch_size)\n",
    "\n",
    "\n",
    "# Train\n",
    "# 모델 로드\n",
    "model = VGG16(base_dim = 64).to(device)\n",
    "# VGG16 모델을 학습에 사용\n",
    "# base dim = 64: 첫 번째 합성곱 블록의 출력 채널 수\n",
    "\n",
    "# 저장된 가중치 불러오기\n",
    "model.load_state_dict(torch.load('./VGG16_100.pth'))\n",
    "\n",
    "# 변수 초기화\n",
    "correct = 0   # 정답 라벨 수 담는 변수\n",
    "total = 0     # 전체 라벨 사이즈 담는 변수\n",
    "\n",
    "\n",
    "model.eval() # 모델을 평가 모드로 전환\n",
    "             # 평가 모드에서는 Dropout, BatchNormalization 등이 비활성화됨\n",
    "\n",
    "\n",
    "# 모델 추론\n",
    "with torch.no_grad(): # 역전파를 계산하지 않아서 메모리를 줄여서 절약 & 평가 속도를 향상시킴\n",
    "    for i, [image, label] in enumerate(test_loader): # 배치 단위로 데이터를 가져옴\n",
    "        x = image.to(device)                         # x = 이미지를 device로 이동\n",
    "        y = label.to(device)                         # y = 라벨을 device로 이동\n",
    "\n",
    "        output = model.forward(x)                    # 모델을 통과한 x의 output\n",
    "        _, output_index = torch.max(output, 1)       # 모델의 출력값 중 가장 높은 확률값을 가진 클래스의 인덱스 반환\n",
    "        total += label.size(0)                       # 총 데이터 수 업데이트\n",
    "        correct += (output_index ==y).sum().float()  # 정답 개수 업데이트\n",
    "\n",
    " # 정확도 출력\n",
    "    print(\"Accuracy of Test Data : {}%\".format(100*correct/total))"
   ]
  },
  {
   "cell_type": "code",
   "execution_count": null,
   "metadata": {},
   "outputs": [],
   "source": []
  }
 ],
 "metadata": {
  "kernelspec": {
   "display_name": "Python 3",
   "language": "python",
   "name": "python3"
  },
  "language_info": {
   "codemirror_mode": {
    "name": "ipython",
    "version": 3
   },
   "file_extension": ".py",
   "mimetype": "text/x-python",
   "name": "python",
   "nbconvert_exporter": "python",
   "pygments_lexer": "ipython3",
   "version": "3.10.7"
  }
 },
 "nbformat": 4,
 "nbformat_minor": 2
}
