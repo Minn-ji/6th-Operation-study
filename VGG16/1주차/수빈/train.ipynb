{
 "cells": [
  {
   "cell_type": "code",
   "execution_count": 9,
   "metadata": {},
   "outputs": [
    {
     "name": "stdout",
     "output_type": "stream",
     "text": [
      "cpu\n",
      "Files already downloaded and verified\n",
      "Files already downloaded and verified\n"
     ]
    },
    {
     "ename": "NameError",
     "evalue": "name 'VGG16' is not defined",
     "output_type": "error",
     "traceback": [
      "\u001b[1;31m---------------------------------------------------------------------------\u001b[0m",
      "\u001b[1;31mNameError\u001b[0m                                 Traceback (most recent call last)",
      "Cell \u001b[1;32mIn[9], line 38\u001b[0m\n\u001b[0;32m     33\u001b[0m test_loader \u001b[38;5;241m=\u001b[39m DataLoader(cifar10_test, batch_size \u001b[38;5;241m=\u001b[39m batch_size)\n\u001b[0;32m     34\u001b[0m \u001b[38;5;66;03m# cifar10 평가 데이터셋을 배치 단위로 불러옴. \u001b[39;00m\n\u001b[0;32m     35\u001b[0m \u001b[38;5;66;03m# 평가 데이터는 shuffle X\u001b[39;00m\n\u001b[0;32m     36\u001b[0m \n\u001b[0;32m     37\u001b[0m \u001b[38;5;66;03m# 모델/손실 함수/옵티마이저 정의\u001b[39;00m\n\u001b[1;32m---> 38\u001b[0m model \u001b[38;5;241m=\u001b[39m \u001b[43mVGG16\u001b[49m(base_dim \u001b[38;5;241m=\u001b[39m \u001b[38;5;241m64\u001b[39m, num_classes\u001b[38;5;241m=\u001b[39m\u001b[38;5;241m10\u001b[39m)\u001b[38;5;241m.\u001b[39mto(device)\n\u001b[0;32m     39\u001b[0m \u001b[38;5;66;03m# VGG16 모델을 학습에 사용\u001b[39;00m\n\u001b[0;32m     40\u001b[0m \u001b[38;5;66;03m# base dim = 64: 첫 번째 합성곱 블록의 출력 채널 수\u001b[39;00m\n\u001b[0;32m     41\u001b[0m loss_func \u001b[38;5;241m=\u001b[39m nn\u001b[38;5;241m.\u001b[39mCrossEntropyLoss() \u001b[38;5;66;03m# loss fuction: CrossEntropy 사용-분류 문제에 적합\u001b[39;00m\n",
      "\u001b[1;31mNameError\u001b[0m: name 'VGG16' is not defined"
     ]
    }
   ],
   "source": [
    "import torchvision.datasets as datasets\n",
    "import torchvision.transforms as transforms\n",
    "from torch.utils.data import DataLoader\n",
    "import torch\n",
    "import torch.nn as nn\n",
    "\n",
    "# train 설정 값 정의\n",
    "batch_size = 100 # 배치 사이즈: 1회에 100개의 이미지 처리\n",
    "learning_rate = 0.0002 # learning rate: 0.0002\n",
    "num_epoch = 100 # 에포크 수: train 데이터 전체를 100회 반복 학습\n",
    "\n",
    "# 장치 설정- CPU 또는 GPU 사용\n",
    "device = torch.device(\"cuda:0\" if torch.cuda.is_available() else \"cpu\")  # GPU 사용 가능: cuda 사용\n",
    "                                                                         # GPU 사용 불가능: CPU 사용\n",
    "print(device) # devcie 확인\n",
    "\n",
    "# 이미지 데이터 전처리\n",
    "transforms = transforms.Compose( \n",
    "    [transforms.ToTensor(),  # 이미지를 PyTorch 텐서로 변환하여, 이미지 픽셀 값을 0~1 범위로 정규화\n",
    "     transforms.Normalize((0.5, 0.5, 0.5), (0.5, 0.5, 0.5))] # 각 R, G, B 채널에 대해 \n",
    "                                                        # 평균(0.5, 0.5, 0.5), 표준편차(0.5, 0.5, 0.5) 기준으로 정규화 수행\n",
    ")\n",
    "\n",
    "# 데이터셋 로드\n",
    "cifar10_train = datasets.CIFAR10(root = './Data/', train = True, transform = transforms, target_transform = None, download = True)\n",
    "# train 데이터셋 다운로드\n",
    "cifar10_test = datasets.CIFAR10(root = './Data/', train = False, transform = transforms, target_transform = None, download = True)\n",
    "# test 데이터셋 다운로드\n",
    "\n",
    "train_loader = DataLoader(cifar10_train, batch_size = batch_size, shuffle = True)\n",
    "# cifar10 학습 데이터셋을 배치 단위로 불러옴. \n",
    "# shuffle = True 해서 데이터 순서 랜덤하게 변경\n",
    "test_loader = DataLoader(cifar10_test, batch_size = batch_size)\n",
    "# cifar10 평가 데이터셋을 배치 단위로 불러옴. \n",
    "# 평가 데이터는 shuffle X\n",
    "\n",
    "# 모델/손실 함수/옵티마이저 정의\n",
    "model = VGG16(base_dim = 64, num_classes=10).to(device)\n",
    "# VGG16 모델을 학습에 사용\n",
    "# base dim = 64: 첫 번째 합성곱 블록의 출력 채널 수\n",
    "loss_func = nn.CrossEntropyLoss() # loss fuction: CrossEntropy 사용-분류 문제에 적합\n",
    "optimizer = torch.optim.Adam(model.parameters(), lr = learning_rate) # optimizer: Adam 옵티마이즈 사용-빠른 학습 속도, 안정적인 최적화 알고리즘\n",
    "\n",
    "\n",
    "\n",
    "# 학습 루프\n",
    "loss_arr = [] # loss array-손실 값 저장용 빈 리스트\n",
    "\n",
    "for i in range(num_epoch):                            # 앞서 지정한 epoch만큼 반복\n",
    "    for j, [image, label] in enumerate(train_loader): # 배치 단위로 데이터 가져옴\n",
    "        x = image.to(device)                          # 입력 이미지 device로 이동\n",
    "        y = label.to(device)                          # 입력 레이블 device로 이동\n",
    "\n",
    "        optimizer.zero_grad()        # 이전 배치의 gradient 초기화\n",
    "        output = model.forward(x)    # 모델 순전파 수행하여, 입력 데이터 모델에 전달\n",
    "        loss = loss_func(output, y)  # 예측 값과 실제 값 간의 loss 차이를 계산\n",
    "        loss.backward()              # 손실 값 기반으로 기울기 계산(역전파)\n",
    "        optimizer.step()             # 계산된 기울기를 사용하여 모델의 가중치 업데이트\n",
    "        \n",
    "\n",
    "    if i % 10 == 0:                                  # epoch 10번마다, 중간 손실 출력\n",
    "        print(f'epoch {i} loss :', loss)                \n",
    "        loss_arr.append(loss.detach().cpu().numpy()) # loss 값 저장\n",
    "        \n",
    "\n",
    "# 모델 저장\n",
    "torch.save(model.state_dict(), \"./VGG16_100.pth\")"
   ]
  },
  {
   "cell_type": "code",
   "execution_count": null,
   "metadata": {},
   "outputs": [],
   "source": []
  }
 ],
 "metadata": {
  "kernelspec": {
   "display_name": "Python 3",
   "language": "python",
   "name": "python3"
  },
  "language_info": {
   "codemirror_mode": {
    "name": "ipython",
    "version": 3
   },
   "file_extension": ".py",
   "mimetype": "text/x-python",
   "name": "python",
   "nbconvert_exporter": "python",
   "pygments_lexer": "ipython3",
   "version": "3.10.7"
  }
 },
 "nbformat": 4,
 "nbformat_minor": 2
}
